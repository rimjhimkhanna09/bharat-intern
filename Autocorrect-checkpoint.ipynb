{
 "cells": [
  {
   "cell_type": "code",
   "execution_count": 1,
   "id": "20301382",
   "metadata": {},
   "outputs": [
    {
     "name": "stdout",
     "output_type": "stream",
     "text": [
      "Collecting autocorrect\n",
      "  Downloading autocorrect-2.6.1.tar.gz (622 kB)\n",
      "Building wheels for collected packages: autocorrect\n",
      "  Building wheel for autocorrect (setup.py): started\n",
      "  Building wheel for autocorrect (setup.py): finished with status 'done'\n",
      "  Created wheel for autocorrect: filename=autocorrect-2.6.1-py3-none-any.whl size=622390 sha256=0e833296a2071ba5b1d51d0d039e27710fc1d2e09b597f125556c847325e017d\n",
      "  Stored in directory: c:\\users\\user\\appdata\\local\\pip\\cache\\wheels\\ab\\0f\\23\\3c010c3fd877b962146e7765f9e9b08026cac8b035094c5750\n",
      "Successfully built autocorrect\n",
      "Installing collected packages: autocorrect\n",
      "Successfully installed autocorrect-2.6.1\n"
     ]
    },
    {
     "name": "stderr",
     "output_type": "stream",
     "text": [
      "WARNING: You are using pip version 21.1.3; however, version 23.2.1 is available.\n",
      "You should consider upgrading via the 'c:\\users\\user\\appdata\\local\\programs\\python\\python39\\python.exe -m pip install --upgrade pip' command.\n"
     ]
    }
   ],
   "source": [
    "#installing Auto correct to collab\n",
    "!pip install autocorrect"
   ]
  },
  {
   "cell_type": "code",
   "execution_count": 2,
   "id": "6f6f043f",
   "metadata": {},
   "outputs": [],
   "source": [
    "#importing The Libraries\n",
    "from autocorrect import Speller"
   ]
  },
  {
   "cell_type": "code",
   "execution_count": 3,
   "id": "119aca9f",
   "metadata": {},
   "outputs": [],
   "source": [
    "# Create an instance/object of the Speller class\n",
    "spell = Speller(lang='en')"
   ]
  },
  {
   "cell_type": "code",
   "execution_count": 4,
   "id": "f4db67b2",
   "metadata": {},
   "outputs": [
    {
     "name": "stdout",
     "output_type": "stream",
     "text": [
      "Enter a word: inklude\n"
     ]
    }
   ],
   "source": [
    "# Take input from the user\n",
    "input_word = input(\"Enter a word: \")"
   ]
  },
  {
   "cell_type": "code",
   "execution_count": 5,
   "id": "1bdc49fd",
   "metadata": {},
   "outputs": [],
   "source": [
    "# Perform auto-correction\n",
    "corrected_word = spell(input_word)"
   ]
  },
  {
   "cell_type": "code",
   "execution_count": 6,
   "id": "7e8d8e9b",
   "metadata": {},
   "outputs": [
    {
     "name": "stdout",
     "output_type": "stream",
     "text": [
      "Did you mean 'include'?\n"
     ]
    }
   ],
   "source": [
    "# Check if the input word is already correct\n",
    "if corrected_word == input_word:\n",
    "    print(f\"The word '{input_word}' is spelled correctly.\")\n",
    "else:\n",
    "    print(f\"Did you mean '{corrected_word}'?\")"
   ]
  },
  {
   "cell_type": "code",
   "execution_count": null,
   "id": "e6048a96",
   "metadata": {},
   "outputs": [],
   "source": []
  }
 ],
 "metadata": {
  "kernelspec": {
   "display_name": "Python 3 (ipykernel)",
   "language": "python",
   "name": "python3"
  },
  "language_info": {
   "codemirror_mode": {
    "name": "ipython",
    "version": 3
   },
   "file_extension": ".py",
   "mimetype": "text/x-python",
   "name": "python",
   "nbconvert_exporter": "python",
   "pygments_lexer": "ipython3",
   "version": "3.9.6"
  }
 },
 "nbformat": 4,
 "nbformat_minor": 5
}
