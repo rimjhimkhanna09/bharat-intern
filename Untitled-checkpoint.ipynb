{
 "cells": [
  {
   "cell_type": "code",
   "execution_count": 1,
   "id": "af1fa6d8",
   "metadata": {},
   "outputs": [
    {
     "name": "stdout",
     "output_type": "stream",
     "text": [
      "Requirement already satisfied: nltk in c:\\users\\user\\appdata\\local\\programs\\python\\python39\\lib\\site-packages (3.8.1)\n",
      "Requirement already satisfied: tqdm in c:\\users\\user\\appdata\\local\\programs\\python\\python39\\lib\\site-packages (from nltk) (4.65.0)\n",
      "Requirement already satisfied: regex>=2021.8.3 in c:\\users\\user\\appdata\\local\\programs\\python\\python39\\lib\\site-packages (from nltk) (2023.3.23)\n",
      "Requirement already satisfied: click in c:\\users\\user\\appdata\\local\\programs\\python\\python39\\lib\\site-packages (from nltk) (8.1.3)\n",
      "Requirement already satisfied: joblib in c:\\users\\user\\appdata\\local\\programs\\python\\python39\\lib\\site-packages (from nltk) (1.2.0)\n",
      "Requirement already satisfied: colorama in c:\\users\\user\\appdata\\local\\programs\\python\\python39\\lib\\site-packages (from click->nltk) (0.4.4)\n"
     ]
    },
    {
     "name": "stderr",
     "output_type": "stream",
     "text": [
      "WARNING: You are using pip version 21.1.3; however, version 23.2.1 is available.\n",
      "You should consider upgrading via the 'c:\\users\\user\\appdata\\local\\programs\\python\\python39\\python.exe -m pip install --upgrade pip' command.\n"
     ]
    }
   ],
   "source": [
    "# installing NLTK in Collab\n",
    "!pip install nltk"
   ]
  },
  {
   "cell_type": "code",
   "execution_count": 3,
   "id": "bee61b77",
   "metadata": {},
   "outputs": [
    {
     "name": "stderr",
     "output_type": "stream",
     "text": [
      "[nltk_data] Downloading package punkt to\n",
      "[nltk_data]     C:\\Users\\USER\\AppData\\Roaming\\nltk_data...\n",
      "[nltk_data]   Package punkt is already up-to-date!\n",
      "[nltk_data] Downloading package wordnet to\n",
      "[nltk_data]     C:\\Users\\USER\\AppData\\Roaming\\nltk_data...\n",
      "[nltk_data]   Package wordnet is already up-to-date!\n"
     ]
    },
    {
     "data": {
      "text/plain": [
       "True"
      ]
     },
     "execution_count": 3,
     "metadata": {},
     "output_type": "execute_result"
    }
   ],
   "source": [
    "#importing the Requirements\n",
    "import nltk\n",
    "from nltk.corpus import wordnet\n",
    "\n",
    "nltk.download('punkt')\n",
    "nltk.download('wordnet')"
   ]
  },
  {
   "cell_type": "code",
   "execution_count": 4,
   "id": "1b7a3520",
   "metadata": {},
   "outputs": [],
   "source": [
    "# Define job requirements and candidate profiles\n",
    "job_requirements = \"We are looking for a candidate with strong programming skills in Python, experience with machine learning, and excellent communication skills.\"\n",
    "candidate_profiles = [\n",
    "    {\n",
    "        \"name\": \"Ravi\",\n",
    "        \"skills\": [\"Python\", \"Java\", \"C++\"],\n",
    "        \"experience\": [\"Machine learning\", \"Data analysis\"],\n",
    "        \"communication\": \"Good\"\n",
    "    },\n",
    "    {\n",
    "        \"name\": \"Sarah\",\n",
    "        \"skills\": [\"Python\", \"R\", \"JavaScript\"],\n",
    "        \"experience\": [\"Natural language processing\", \"Data visualization\"],\n",
    "        \"communication\": \"Excellent\"\n",
    "    },\n",
    "    {\n",
    "        \"name\": \"Michael\",\n",
    "        \"skills\": [\"C++\", \"Java\", \"JavaScript\"],\n",
    "        \"experience\": [\"Database management\", \"Web development\"],\n",
    "        \"communication\": \"Average\"\n",
    "    }\n",
    "]"
   ]
  },
  {
   "cell_type": "code",
   "execution_count": 5,
   "id": "6f3aa386",
   "metadata": {},
   "outputs": [],
   "source": [
    "# Funtion to Calculate Similarity Score\n",
    "def calculate_similarity_score(words1, words2):\n",
    "    synsets1 = set([synset for word in words1 for synset in wordnet.synsets(word)])\n",
    "    synsets2 = set([synset for word in words2 for synset in wordnet.synsets(word)])\n",
    "    similarity_score = len(synsets1.intersection(synsets2)) / (len(synsets1) + len(synsets2))\n",
    "    return similarity_score"
   ]
  },
  {
   "cell_type": "code",
   "execution_count": 6,
   "id": "bebe140c",
   "metadata": {},
   "outputs": [],
   "source": [
    "# Function to find the best candidate based on job requirements\n",
    "def find_best_candidate(job_requirements, candidate_profiles):\n",
    "    best_candidate = None\n",
    "    best_score = 0\n",
    "\n",
    "    # Tokenize job requirements\n",
    "    job_tokens = nltk.word_tokenize(job_requirements)\n",
    "\n",
    "    for candidate in candidate_profiles:\n",
    "        # Combine candidate's skills and experience\n",
    "        candidate_words = candidate[\"skills\"] + candidate[\"experience\"]\n",
    "\n",
    "        # Calculate similarity score\n",
    "        score = calculate_similarity_score(job_tokens, candidate_words)\n",
    "\n",
    "        # Update best candidate if the current score is higher\n",
    "        if score > best_score:\n",
    "            best_candidate = candidate[\"name\"]\n",
    "            best_score = score\n",
    "\n",
    "    return best_candidate\n"
   ]
  },
  {
   "cell_type": "code",
   "execution_count": 7,
   "id": "47375377",
   "metadata": {},
   "outputs": [
    {
     "name": "stdout",
     "output_type": "stream",
     "text": [
      "The best candidate for the job is: Ravi\n"
     ]
    }
   ],
   "source": [
    "# Find the best candidate\n",
    "best_candidate = find_best_candidate(job_requirements, candidate_profiles)\n",
    "print(\"The best candidate for the job is:\", best_candidate)"
   ]
  },
  {
   "cell_type": "code",
   "execution_count": null,
   "id": "f34702bf",
   "metadata": {},
   "outputs": [],
   "source": []
  }
 ],
 "metadata": {
  "kernelspec": {
   "display_name": "Python 3 (ipykernel)",
   "language": "python",
   "name": "python3"
  },
  "language_info": {
   "codemirror_mode": {
    "name": "ipython",
    "version": 3
   },
   "file_extension": ".py",
   "mimetype": "text/x-python",
   "name": "python",
   "nbconvert_exporter": "python",
   "pygments_lexer": "ipython3",
   "version": "3.9.6"
  }
 },
 "nbformat": 4,
 "nbformat_minor": 5
}
